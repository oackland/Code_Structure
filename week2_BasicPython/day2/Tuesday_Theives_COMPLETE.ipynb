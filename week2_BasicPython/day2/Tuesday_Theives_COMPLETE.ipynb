{
 "cells": [
  {
   "cell_type": "markdown",
   "metadata": {},
   "source": [
    "# Functions, Scoping, Data Collections 1 & List Comprehensions"
   ]
  },
  {
   "attachments": {},
   "cell_type": "markdown",
   "metadata": {},
   "source": [
    "## Tasks Today:\n",
    "\n",
    "1) String Manipulation <br>\n",
    " &nbsp;&nbsp;&nbsp;&nbsp; a) strip() <br>\n",
    " &nbsp;&nbsp;&nbsp;&nbsp; b) title() <br>\n",
    "1) Working With Lists <br>\n",
    " &nbsp;&nbsp;&nbsp;&nbsp; a) min() <br>\n",
    " &nbsp;&nbsp;&nbsp;&nbsp; b) max() <br>\n",
    " &nbsp;&nbsp;&nbsp;&nbsp; c) sum() <br>\n",
    " &nbsp;&nbsp;&nbsp;&nbsp; d) sort() <br>\n",
    " &nbsp;&nbsp;&nbsp;&nbsp; e) Copying a List <br>\n",
    " &nbsp;&nbsp;&nbsp;&nbsp; i) Checking an Empty List <br>\n",
    " &nbsp;&nbsp;&nbsp;&nbsp; j) Removing Instances with a Loop <br>\n",
    "1) List Comprehensions <br>\n",
    "2) Tuples <br>\n",
    " &nbsp;&nbsp;&nbsp;&nbsp; a) sorted() <br>\n",
    "1) Functions <br>\n",
    " &nbsp;&nbsp;&nbsp;&nbsp; a) User-Defined vs. Built-In Functions <br>\n",
    " &nbsp;&nbsp;&nbsp;&nbsp; b) Accepting Parameters <br>\n",
    " &nbsp;&nbsp;&nbsp;&nbsp; c) Default Parameters <br>\n",
    " &nbsp;&nbsp;&nbsp;&nbsp; d) Making an Argument Optional <br>\n",
    " &nbsp;&nbsp;&nbsp;&nbsp; e) Keyword Arguments <br>\n",
    " &nbsp;&nbsp;&nbsp;&nbsp; f) Returning Values <br>\n",
    " &nbsp;&nbsp;&nbsp;&nbsp; g) *args & **kwargs<br>\n",
    " &nbsp;&nbsp;&nbsp;&nbsp; h) Docstring <br>\n",
    " &nbsp;&nbsp;&nbsp;&nbsp; i) Using a User Function in a Loop <br>\n",
    "1) Scope"
   ]
  },
  {
   "cell_type": "markdown",
   "metadata": {},
   "source": [
    "### String Manipulation"
   ]
  },
  {
   "attachments": {},
   "cell_type": "markdown",
   "metadata": {},
   "source": [
    "##### .lstrip() - Remove spaces on the left side of the string"
   ]
  },
  {
   "cell_type": "code",
   "execution_count": 7,
   "metadata": {
    "ExecuteTime": {
     "end_time": "2023-10-16T17:55:29.122732800Z",
     "start_time": "2023-10-16T17:55:28.771463400Z"
    }
   },
   "outputs": [
    {
     "name": "stdout",
     "output_type": "stream",
     "text": [
      "  d     dkad tina\n",
      "kad tina\n"
     ]
    }
   ],
   "source": [
    "# string.lstrip()\n",
    "# can pass argument to specify what characters to strip \n",
    "\n",
    "txt = '  d     dkad tina'\n",
    "\n",
    "print(txt)\n",
    "new_txt = txt.lstrip('d ')\n",
    "print(new_txt)\n"
   ]
  },
  {
   "attachments": {},
   "cell_type": "markdown",
   "metadata": {},
   "source": [
    "##### .rstrip() - Remove spaces on the right side of the string"
   ]
  },
  {
   "cell_type": "code",
   "execution_count": 8,
   "metadata": {
    "ExecuteTime": {
     "end_time": "2023-10-16T17:55:29.134961600Z",
     "start_time": "2023-10-16T17:55:28.780540800Z"
    }
   },
   "outputs": [
    {
     "name": "stdout",
     "output_type": "stream",
     "text": [
      "      dkatina          ///r\n",
      "      dkatina          ///r\n"
     ]
    }
   ],
   "source": [
    "# string.rstrip()\n",
    "txt = '      dkatina          ///r'\n",
    "print(txt)\n",
    "new_text = txt.rstrip(' /')\n",
    "print(new_text)"
   ]
  },
  {
   "attachments": {},
   "cell_type": "markdown",
   "metadata": {},
   "source": [
    "##### .strip() - Remove spaces at the beginning and at the end of the string"
   ]
  },
  {
   "cell_type": "code",
   "execution_count": 9,
   "metadata": {
    "ExecuteTime": {
     "end_time": "2023-10-16T17:55:29.134961600Z",
     "start_time": "2023-10-16T17:55:28.788849700Z"
    }
   },
   "outputs": [
    {
     "name": "stdout",
     "output_type": "stream",
     "text": [
      "      dkatina          ///\n",
      "dkatina\n"
     ]
    }
   ],
   "source": [
    "# string.strip()\n",
    "txt = '      dkatina          ///'\n",
    "print(txt)\n",
    "new_text = txt.strip(' /')\n",
    "print(new_text)\n"
   ]
  },
  {
   "attachments": {},
   "cell_type": "markdown",
   "metadata": {},
   "source": [
    "##### .title() - returns a string where the first character in every word is upper case"
   ]
  },
  {
   "cell_type": "code",
   "execution_count": 10,
   "metadata": {
    "ExecuteTime": {
     "end_time": "2023-10-16T17:55:29.440212500Z",
     "start_time": "2023-10-16T17:55:28.797930900Z"
    }
   },
   "outputs": [
    {
     "name": "stdout",
     "output_type": "stream",
     "text": [
      "This String Wont Be Lower Case For Long\n",
      "THIS STRING WONT BE LOWER CASE FOR LONG\n",
      "this string wont be lower case for long\n"
     ]
    }
   ],
   "source": [
    "# string.title()\n",
    "text = 'this string WONT be lower case for long'\n",
    "new_text = text.title()\n",
    "print(new_text)\n",
    "\n",
    "uppercase = text.upper()\n",
    "print(uppercase)\n",
    "\n",
    "lowercase = text.lower()\n",
    "print(lowercase)"
   ]
  },
  {
   "cell_type": "markdown",
   "metadata": {},
   "source": [
    "### String Exercise <br>\n",
    "<p>Strip all white space and capitalize every name in the list given</p>"
   ]
  },
  {
   "cell_type": "code",
   "execution_count": 11,
   "metadata": {
    "ExecuteTime": {
     "end_time": "2023-10-16T17:55:29.446885100Z",
     "start_time": "2023-10-16T17:55:28.808315400Z"
    }
   },
   "outputs": [],
   "source": [
    "names = ['    coNNor', 'max', ' EVan ', 'JORDAN']\n",
    "# HINT: You will need to use a for loop for iteration\n",
    "\n"
   ]
  },
  {
   "cell_type": "markdown",
   "metadata": {},
   "source": [
    "### Working With Lists"
   ]
  },
  {
   "attachments": {},
   "cell_type": "markdown",
   "metadata": {},
   "source": [
    "##### min() - returns the item with the lowest value, or the item with the lowest value in an iterable."
   ]
  },
  {
   "cell_type": "code",
   "execution_count": 12,
   "metadata": {
    "ExecuteTime": {
     "end_time": "2023-10-16T17:55:29.446885100Z",
     "start_time": "2023-10-16T17:55:28.820066400Z"
    }
   },
   "outputs": [
    {
     "name": "stdout",
     "output_type": "stream",
     "text": [
      "-6\n"
     ]
    }
   ],
   "source": [
    "# min(list)\n",
    "alist = [111,2,3,4,5, 0,-6,7,8,9]\n",
    "\n",
    "lowest = min(alist)\n",
    "\n",
    "print(lowest)\n",
    "\n"
   ]
  },
  {
   "attachments": {},
   "cell_type": "markdown",
   "metadata": {},
   "source": [
    "##### max() - returns the item with the highest value, or the item with the highest value in an iterable."
   ]
  },
  {
   "cell_type": "code",
   "execution_count": 13,
   "metadata": {
    "ExecuteTime": {
     "end_time": "2023-10-16T17:55:29.461774Z",
     "start_time": "2023-10-16T17:55:28.828455200Z"
    }
   },
   "outputs": [
    {
     "name": "stdout",
     "output_type": "stream",
     "text": [
      "111\n"
     ]
    }
   ],
   "source": [
    "# max(list)\n",
    "\n",
    "largest = max(alist)\n",
    "\n",
    "print(largest)\n",
    "\n"
   ]
  },
  {
   "attachments": {},
   "cell_type": "markdown",
   "metadata": {},
   "source": [
    "##### sum() - returns a number, the sum of all items in an iterable."
   ]
  },
  {
   "cell_type": "code",
   "execution_count": 14,
   "metadata": {
    "ExecuteTime": {
     "end_time": "2023-10-16T17:55:29.461774Z",
     "start_time": "2023-10-16T17:55:28.837026900Z"
    }
   },
   "outputs": [
    {
     "name": "stdout",
     "output_type": "stream",
     "text": [
      "143\n"
     ]
    }
   ],
   "source": [
    "# sum(list)\n",
    "alist = [111,2,3,4,5, 0,-6,7,8,9]\n",
    "\n",
    "total = sum(alist)\n",
    "\n",
    "print(total)\n"
   ]
  },
  {
   "attachments": {},
   "cell_type": "markdown",
   "metadata": {},
   "source": [
    "##### sorted() - returns a sorted list of the specified iterable object."
   ]
  },
  {
   "cell_type": "code",
   "execution_count": 15,
   "metadata": {
    "ExecuteTime": {
     "end_time": "2023-10-16T17:55:29.465281600Z",
     "start_time": "2023-10-16T17:55:28.846526300Z"
    }
   },
   "outputs": [
    {
     "name": "stdout",
     "output_type": "stream",
     "text": [
      "[111, 9, 8, 7, 5, 4, 3, 2, 0, -6]\n",
      "[111, 2, 3, 4, 5, 0, -6, 7, 8, 9]\n"
     ]
    }
   ],
   "source": [
    "# sorted(list)\n",
    "# sorted does not effect the original list, it returns a copy\n",
    "# can pass argument to reverse sorted order\n",
    "alist = [111,2,3,4,5, 0,-6,7,8,9]\n",
    "\n",
    "sorted_list = sorted(alist, reverse = True)\n",
    "\n",
    "print(sorted_list)\n",
    "print(alist)\n",
    "\n",
    "\n",
    "\n"
   ]
  },
  {
   "cell_type": "markdown",
   "metadata": {},
   "source": [
    "##### .sort() <br>\n",
    "<p>Difference between sort and sorted, is that sorted doesn't change original list it returns a copy, while .sort changes the original list</p>"
   ]
  },
  {
   "cell_type": "code",
   "execution_count": 16,
   "metadata": {
    "ExecuteTime": {
     "end_time": "2023-10-16T17:55:29.479730300Z",
     "start_time": "2023-10-16T17:55:28.855041700Z"
    }
   },
   "outputs": [
    {
     "name": "stdout",
     "output_type": "stream",
     "text": [
      "[-6, 0, 2, 3, 4, 5, 7, 8, 9, 111]\n"
     ]
    }
   ],
   "source": [
    "# list.sort()\n",
    "# use sorted when you don't want to alter original list, use .sort() when you want to alter original list\n",
    "\n",
    "alist = [111,2,3,4,5, 0,-6,7,8,9]\n",
    "\n",
    "alist.sort()\n",
    "\n",
    "print(alist)\n"
   ]
  },
  {
   "cell_type": "markdown",
   "metadata": {},
   "source": [
    "##### Copying a List"
   ]
  },
  {
   "cell_type": "code",
   "execution_count": 17,
   "metadata": {
    "ExecuteTime": {
     "end_time": "2023-10-16T17:55:29.480233600Z",
     "start_time": "2023-10-16T17:55:28.864462500Z"
    }
   },
   "outputs": [
    {
     "name": "stdout",
     "output_type": "stream",
     "text": [
      "['Sam', 'Omar', 'Justin', 'Mitchell', 'Oackland']\n",
      "['Sam', 'Omar', 'Justin', 'Mitchell', 'Oackland']\n",
      "['Sam', 'Omar', 'Justin', 'Mitchell', 'Oackland']\n"
     ]
    }
   ],
   "source": [
    "# [:] copies a list, doesn't alter original\n",
    "# .copy() method\n",
    "\n",
    "stus = ['Sam', 'Omar', 'Justin', 'Mitchell', 'Oackland']\n",
    "\n",
    "\n",
    "print(stus)\n",
    "\n",
    "new_stus = stus[:]\n",
    "print(new_stus)\n",
    "\n",
    "method_copy = stus.copy()\n",
    "print(method_copy)\n",
    "\n"
   ]
  },
  {
   "cell_type": "markdown",
   "metadata": {},
   "source": [
    "##### Checking an Empty List"
   ]
  },
  {
   "cell_type": "code",
   "execution_count": 18,
   "metadata": {
    "ExecuteTime": {
     "end_time": "2023-10-16T17:55:29.487745Z",
     "start_time": "2023-10-16T17:55:28.873362300Z"
    }
   },
   "outputs": [
    {
     "name": "stdout",
     "output_type": "stream",
     "text": [
      "Nothin' here\n"
     ]
    }
   ],
   "source": [
    "# if list1: or if list1 == []:\n",
    "\n",
    "mylist = ''\n",
    "\n",
    "if mylist:\n",
    "    print(\"We've got somthin\")\n",
    "else:\n",
    "    print(\"Nothin' here\")\n",
    "\n"
   ]
  },
  {
   "cell_type": "markdown",
   "metadata": {},
   "source": [
    "##### Removing Instances with a Loop"
   ]
  },
  {
   "cell_type": "code",
   "execution_count": 19,
   "metadata": {
    "ExecuteTime": {
     "end_time": "2023-10-16T17:55:29.489537100Z",
     "start_time": "2023-10-16T17:55:28.880817500Z"
    }
   },
   "outputs": [
    {
     "name": "stdout",
     "output_type": "stream",
     "text": [
      "['Britt', 'Faith', 'Faith', 'Marcos', 'Jake', 'Faith']\n",
      "['Britt', 'Faith', 'Faith', 'Marcos', 'Jake', 'Faith']\n",
      "['Britt', 'Faith', 'Marcos', 'Jake', 'Faith']\n",
      "['Britt', 'Faith', 'Marcos', 'Jake', 'Faith']\n",
      "['Britt', 'Faith', 'Marcos', 'Jake', 'Faith']\n",
      "['Britt', 'Marcos', 'Jake', 'Faith']\n"
     ]
    }
   ],
   "source": [
    "# while & for, remove\n",
    "students = ['Britt', 'Faith', 'Faith', 'Marcos', 'Jake', 'Faith']\n",
    "\n",
    "\n",
    "\n",
    "# while 'Faith' in students:\n",
    "#     students.remove('Faith')\n",
    "\n",
    "# print(students)\n",
    "\n",
    "for student in students:\n",
    "    print(students)\n",
    "    if student == 'Faith':\n",
    "        students.remove('Faith')\n",
    "\n",
    "print(students)\n"
   ]
  },
  {
   "cell_type": "markdown",
   "metadata": {},
   "source": [
    "### List Exercise <br>\n",
    "<p>Remove all duplicates<br><b>Extra: Create a program that will remove any duplicates from a given list</b></p>"
   ]
  },
  {
   "cell_type": "code",
   "execution_count": 20,
   "metadata": {
    "ExecuteTime": {
     "end_time": "2023-10-16T17:55:29.492538600Z",
     "start_time": "2023-10-16T17:55:28.889234600Z"
    }
   },
   "outputs": [],
   "source": [
    "names = ['connor', 'connor', 'bob', 'connor', 'evan', 'max', 'evan', 2, 2, 2, 3, 3, 4, 'bob', 'kevin']\n",
    "# Hint 1: You will need an append\n",
    "# Hint 2: Using an empty list will make life easier\n",
    "\n"
   ]
  },
  {
   "attachments": {},
   "cell_type": "markdown",
   "metadata": {},
   "source": [
    "#### List Comprehension - offers a shorter syntax when you want to create a new list based on the values of an existing list."
   ]
  },
  {
   "attachments": {},
   "cell_type": "markdown",
   "metadata": {},
   "source": [
    "#### Syntax - newlist = [expression for item in iterable if condition == True]\n",
    "##### The return value is a new list, leaving the old list unchanged.\n",
    "##### The condition is like a filter that only accepts the items that valuate to True."
   ]
  },
  {
   "cell_type": "code",
   "execution_count": 21,
   "metadata": {
    "ExecuteTime": {
     "end_time": "2023-10-16T17:55:29.500811800Z",
     "start_time": "2023-10-16T17:55:28.903925800Z"
    }
   },
   "outputs": [
    {
     "name": "stdout",
     "output_type": "stream",
     "text": [
      "['Dylan', 'Dylan', 'Dylan', 'Dylan', 'Dylan', 'Dylan', 'Dylan', 'Dylan', 'Dylan', 'Dylan']\n",
      "['Dylan', 'Dylan', 'Dylan', 'Dylan', 'Dylan', 'Dylan', 'Dylan', 'Dylan', 'Dylan', 'Dylan']\n"
     ]
    }
   ],
   "source": [
    "# number list comprehension\n",
    "\n",
    "# With a regular for loop\n",
    "me_list = []\n",
    "for me in range(10):\n",
    "    me_list.append('Dylan')\n",
    "\n",
    "print(me_list)\n",
    "\n",
    "# List Comprehension\n",
    "\n",
    "#var =    [add this | for each item |  in a list]\n",
    "list_comp = ['Dylan' for me in range(10)]\n",
    "\n",
    "print(list_comp)\n",
    "\n"
   ]
  },
  {
   "attachments": {},
   "cell_type": "markdown",
   "metadata": {},
   "source": [
    "There are a few benefits to using List comprehensions. The most obvious would be that we now have shorter code to work with instead of using 3+ lines of code in the for loop variant.\n",
    "\n",
    "More time-efficient and space-efficient than loops.\n",
    "\n",
    "Lastly, list comprehensions are considered the \"pythonic\" way to write code."
   ]
  },
  {
   "cell_type": "code",
   "execution_count": 22,
   "metadata": {
    "ExecuteTime": {
     "end_time": "2023-10-16T17:55:29.504268700Z",
     "start_time": "2023-10-16T17:55:28.913931300Z"
    }
   },
   "outputs": [
    {
     "name": "stdout",
     "output_type": "stream",
     "text": [
      "[0, 1, 4, 9, 16, 25, 36, 49, 64, 81]\n",
      "[8100, 8281, 8464, 8649, 8836, 9025, 9216, 9409, 9604, 9801]\n"
     ]
    }
   ],
   "source": [
    "# square number list comprehension\n",
    "\n",
    "# With a reg for loop\n",
    "\n",
    "squares = []\n",
    "for num in range(10):\n",
    "    squares.append(num**2)\n",
    "\n",
    "print(squares)\n",
    "\n",
    "# List Comprehension\n",
    "\n",
    "#var =    [add this | for each item |  in a list]\n",
    "new_squares = [num**2 for num in range(90,100)]\n",
    "print(new_squares)\n"
   ]
  },
  {
   "cell_type": "code",
   "execution_count": 23,
   "metadata": {
    "ExecuteTime": {
     "end_time": "2023-10-16T17:55:29.504268700Z",
     "start_time": "2023-10-16T17:55:28.920164900Z"
    }
   },
   "outputs": [
    {
     "name": "stdout",
     "output_type": "stream",
     "text": [
      "['Christian', 'Marcos', 'Jennifer', 'Deven']\n",
      "['Christian', 'Marcos', 'Jennifer', 'Deven']\n"
     ]
    }
   ],
   "source": [
    "# string list comprehension\n",
    "students = ['ChriSTian','MarCoS', 'JEnNifer', 'DeVEn']\n",
    "\n",
    "# With a reg for loop\n",
    "corrected = []\n",
    "for student in students:\n",
    "    corrected.append(student.title())\n",
    "\n",
    "print(corrected)\n",
    "\n",
    "# List Comprehension\n",
    "\n",
    "list_comp_correct = [student.title() for student in students]\n",
    "print(list_comp_correct)\n"
   ]
  },
  {
   "attachments": {},
   "cell_type": "markdown",
   "metadata": {},
   "source": [
    "### Tuples - Collection which is ordered, unchangeable, and allow duplicate values."
   ]
  },
  {
   "cell_type": "code",
   "execution_count": 24,
   "metadata": {
    "ExecuteTime": {
     "end_time": "2023-10-16T17:55:29.504268700Z",
     "start_time": "2023-10-16T17:55:28.931134200Z"
    }
   },
   "outputs": [
    {
     "name": "stdout",
     "output_type": "stream",
     "text": [
      "123\n",
      "345\n",
      "678\n"
     ]
    }
   ],
   "source": [
    "codes = (123, 345, 678)\n",
    "codes2 = [342,4523,254]\n",
    "\n",
    "\n",
    "\n",
    "# for loop with tuple\n",
    "\n",
    "for num in codes:\n",
    "    print(num)\n"
   ]
  },
  {
   "cell_type": "markdown",
   "metadata": {},
   "source": [
    "##### sorted()"
   ]
  },
  {
   "cell_type": "code",
   "execution_count": 25,
   "metadata": {
    "ExecuteTime": {
     "end_time": "2023-10-16T17:55:29.518775900Z",
     "start_time": "2023-10-16T17:55:28.941517100Z"
    }
   },
   "outputs": [
    {
     "name": "stdout",
     "output_type": "stream",
     "text": [
      "(64578458, 123, 345)\n",
      "(123, 345, 64578458)\n"
     ]
    }
   ],
   "source": [
    "codes = (64578458,123, 345)\n",
    "\n",
    "print(codes)\n",
    "\n",
    "new_codes = sorted(codes)\n",
    "\n",
    "print(tuple(new_codes))"
   ]
  },
  {
   "cell_type": "markdown",
   "metadata": {},
   "source": [
    "##### Adding values to a Tuple"
   ]
  },
  {
   "cell_type": "code",
   "execution_count": 26,
   "metadata": {
    "ExecuteTime": {
     "end_time": "2023-10-16T17:55:29.518775900Z",
     "start_time": "2023-10-16T17:55:28.948373700Z"
    }
   },
   "outputs": [
    {
     "name": "stdout",
     "output_type": "stream",
     "text": [
      "140387990999232\n",
      "140387991156960\n",
      "(64578458, 123, 345, 123, 876, 543)\n"
     ]
    }
   ],
   "source": [
    "codes = (64578458,123, 345)\n",
    "print(id(codes))\n",
    "\n",
    "new_codes = (123, 876, 543)\n",
    "\n",
    "codes = codes + new_codes\n",
    "print(id(codes))\n",
    "\n",
    "print(codes)\n"
   ]
  },
  {
   "cell_type": "markdown",
   "metadata": {},
   "source": [
    "## Functions"
   ]
  },
  {
   "cell_type": "markdown",
   "metadata": {},
   "source": [
    "##### User-Defined vs. Built-In Functions"
   ]
  },
  {
   "cell_type": "code",
   "execution_count": 27,
   "metadata": {
    "ExecuteTime": {
     "end_time": "2023-10-16T17:55:29.518775900Z",
     "start_time": "2023-10-16T17:55:28.963111600Z"
    }
   },
   "outputs": [
    {
     "name": "stdout",
     "output_type": "stream",
     "text": [
      "<function greeting at 0x7faea06f5da0>\n",
      "Hello Friend!\n"
     ]
    }
   ],
   "source": [
    "#User-defined\n",
    "\n",
    "def greeting():\n",
    "    return \"Hello Friend!\"\n",
    "\n",
    "\n",
    "\n",
    "#Built-In print, showing the function in memory\n",
    "print(greeting)\n",
    "\n",
    "#Built-in print, calling the function\n",
    "# \n",
    "print(greeting())"
   ]
  },
  {
   "cell_type": "markdown",
   "metadata": {},
   "source": [
    "##### Accepting Parameters"
   ]
  },
  {
   "cell_type": "code",
   "execution_count": 28,
   "metadata": {
    "ExecuteTime": {
     "end_time": "2023-10-16T17:55:29.518775900Z",
     "start_time": "2023-10-16T17:55:28.972998400Z"
    }
   },
   "outputs": [
    {
     "name": "stdout",
     "output_type": "stream",
     "text": [
      "My full name is Dylan Katina\n"
     ]
    }
   ],
   "source": [
    "# Order matters\n",
    "# A variable can be of any type of object\n",
    "def full_name(first, last):\n",
    "    return f'My full name is {first} {last}'\n",
    "\n",
    "print(full_name('Dylan', 'Katina'))"
   ]
  },
  {
   "cell_type": "markdown",
   "metadata": {},
   "source": [
    "##### Default Parameters"
   ]
  },
  {
   "cell_type": "code",
   "execution_count": 29,
   "metadata": {
    "ExecuteTime": {
     "end_time": "2023-10-16T17:55:29.518775900Z",
     "start_time": "2023-10-16T17:55:28.981996400Z"
    }
   },
   "outputs": [
    {
     "name": "stdout",
     "output_type": "stream",
     "text": [
      "This is the Thieves cohort, taught be Chris and Dylan\n"
     ]
    }
   ],
   "source": [
    "# default parameters need to be AFTER non-default parameters at all times\n",
    "\n",
    "def class_info(ins2, ins1='Christian', cohort='Thieves'):\n",
    "    return f'This is the {cohort} cohort, taught be {ins1} and {ins2}'\n",
    "\n",
    "print(class_info('Dylan', 'Chris'))\n",
    "\n",
    "\n"
   ]
  },
  {
   "cell_type": "markdown",
   "metadata": {},
   "source": [
    "##### Making an Argument Optional"
   ]
  },
  {
   "cell_type": "code",
   "execution_count": 30,
   "metadata": {
    "ExecuteTime": {
     "end_time": "2023-10-16T17:55:29.534413700Z",
     "start_time": "2023-10-16T17:55:28.992546300Z"
    }
   },
   "outputs": [
    {
     "name": "stdout",
     "output_type": "stream",
     "text": [
      "Dylan \"Hurricane\" Katina\n"
     ]
    }
   ],
   "source": [
    "def nickname(first, last, nickname=''):\n",
    "    if nickname:\n",
    "        print(f'{first} \"{nickname}\" {last}')\n",
    "    else:\n",
    "        print(f'{first} {last}')\n",
    "\n",
    "nickname('Dylan', 'Katina', 'Hurricane')\n"
   ]
  },
  {
   "cell_type": "markdown",
   "metadata": {},
   "source": [
    "# Creating a start, stop, step function"
   ]
  },
  {
   "cell_type": "code",
   "execution_count": 31,
   "metadata": {
    "ExecuteTime": {
     "end_time": "2023-10-16T17:55:29.534413700Z",
     "start_time": "2023-10-16T17:55:29.000390600Z"
    }
   },
   "outputs": [
    {
     "name": "stdout",
     "output_type": "stream",
     "text": [
      "[0, 1, 2, 3, 4, 5, 6, 7, 8, 9]\n"
     ]
    }
   ],
   "source": [
    "def my_range(stop, start=0, step=1):\n",
    "    output = []\n",
    "    for num in range(start, stop, step):\n",
    "        output.append(num)\n",
    "\n",
    "    return(output)\n",
    "\n",
    "print(my_range(10))"
   ]
  },
  {
   "cell_type": "markdown",
   "metadata": {},
   "source": [
    "##### Returning Values"
   ]
  },
  {
   "cell_type": "code",
   "execution_count": 32,
   "metadata": {
    "ExecuteTime": {
     "end_time": "2023-10-16T17:55:29.534413700Z",
     "start_time": "2023-10-16T17:55:29.017162200Z"
    }
   },
   "outputs": [
    {
     "name": "stdout",
     "output_type": "stream",
     "text": [
      "Hello\n"
     ]
    }
   ],
   "source": [
    "# see above\n",
    "\n",
    "# def greeting2():\n",
    "#     print('hello')\n",
    "\n",
    "def greeting():\n",
    "    return \"Hello\"\n",
    "\n",
    "greet = greeting()\n",
    "\n",
    "print(greet)"
   ]
  },
  {
   "attachments": {},
   "cell_type": "markdown",
   "metadata": {},
   "source": [
    "##### *args/**kwargs (A.K.A. KeyWord Arguments)##### *args"
   ]
  },
  {
   "cell_type": "code",
   "execution_count": 33,
   "metadata": {
    "ExecuteTime": {
     "end_time": "2023-10-16T17:55:29.550039900Z",
     "start_time": "2023-10-16T17:55:29.029107100Z"
    }
   },
   "outputs": [
    {
     "name": "stdout",
     "output_type": "stream",
     "text": [
      "This is the Thieves Cohort\n",
      "Taught by Christian and Dylan\n",
      "Our students are:\n",
      "Sam\n",
      "Omar\n",
      "Justin\n",
      "Oackland\n",
      "Hi my name is Dylan\n",
      "This is my routine:\n",
      "{'morning': 'Wake up at 3:00am', 'mid_morning': 'Take a cool 10 mile hike', 'dawn': 'he harnesses his chi', 'mid_day': 'Eat', 'evening': 'Teach'}\n"
     ]
    }
   ],
   "source": [
    "# *args = unlimited amount of arguments, function stores as tuple\n",
    "# **kwargs = unlimited amount of keyword arguments, function stores as dictionary\n",
    "\n",
    "def thieves(ins1, ins2, *students):\n",
    "    print('This is the Thieves Cohort')\n",
    "    print(f'Taught by {ins1} and {ins2}')\n",
    "    print(f'Our students are:')\n",
    "    for student in students:\n",
    "        print(student)\n",
    "\n",
    "thieves('Christian', 'Dylan' , 'Sam', 'Omar', 'Justin', 'Oackland')\n",
    "\n",
    "\n",
    "def my_routine(person, **dailies):\n",
    "    print(f'Hi my name is {person}')\n",
    "    print('This is my routine:')\n",
    "    print(dailies)\n",
    "\n",
    "my_routine('Dylan', morning='Wake up at 3:00am', mid_morning='Take a cool 10 mile hike', dawn='he harnesses his chi', mid_day='Eat', evening='Teach')\n"
   ]
  },
  {
   "attachments": {},
   "cell_type": "markdown",
   "metadata": {},
   "source": [
    "##### Docstring - Multi-line Comment"
   ]
  },
  {
   "cell_type": "code",
   "execution_count": 34,
   "metadata": {
    "ExecuteTime": {
     "end_time": "2023-10-16T17:55:29.550039900Z",
     "start_time": "2023-10-16T17:55:29.040179500Z"
    }
   },
   "outputs": [
    {
     "name": "stdout",
     "output_type": "stream",
     "text": [
      "3\n",
      "Help on function adding in module __main__:\n",
      "\n",
      "adding(x, y)\n",
      "    This function takes in 2 integers, adds them, \n",
      "    and returns the sum\n"
     ]
    }
   ],
   "source": [
    "# Allows you to write documentation for user-defined functions\n",
    "\n",
    "def adding(x, y):\n",
    "    '''\n",
    "     This function takes in 2 integers, adds them, \n",
    "     and returns the sum\n",
    "    '''\n",
    "\n",
    "    return x + y\n",
    "\n",
    "print(adding(1,2))\n",
    "\n",
    "help(adding)\n"
   ]
  },
  {
   "cell_type": "markdown",
   "metadata": {},
   "source": [
    "##### Using a User Function in a Loop"
   ]
  },
  {
   "cell_type": "code",
   "execution_count": 35,
   "metadata": {
    "ExecuteTime": {
     "end_time": "2023-10-16T17:55:29.565552800Z",
     "start_time": "2023-10-16T17:55:29.049873200Z"
    }
   },
   "outputs": [
    {
     "name": "stdout",
     "output_type": "stream",
     "text": [
      "I love learning\n",
      "running inner function\n",
      "I love learning\n",
      "running inner function\n",
      "I love learning\n",
      "running inner function\n",
      "I love learning\n",
      "running inner function\n",
      "I love learning\n",
      "running inner function\n",
      "I love learning\n",
      "running inner function\n",
      "I love learning\n",
      "running inner function\n",
      "I love learning\n",
      "running inner function\n",
      "I love learning\n",
      "running inner function\n",
      "I love learning\n",
      "running inner function\n"
     ]
    }
   ],
   "source": [
    "def add_one(num):\n",
    "    print('running inner function')\n",
    "    return num + 1\n",
    "\n",
    "\n",
    "i = 0\n",
    "while i < 10:\n",
    "    print('I love learning')\n",
    "    i = add_one(i)"
   ]
  },
  {
   "cell_type": "markdown",
   "metadata": {},
   "source": [
    "## Function Exercise <br>\n",
    "<p>Write a function that loops through a list of first_names and a list of last_names, combines the two and return a list of full_names</p>"
   ]
  },
  {
   "cell_type": "code",
   "execution_count": 36,
   "metadata": {
    "ExecuteTime": {
     "end_time": "2023-10-16T17:55:29.565552800Z",
     "start_time": "2023-10-16T17:55:29.059347Z"
    }
   },
   "outputs": [
    {
     "name": "stdout",
     "output_type": "stream",
     "text": [
      "['John Smith', 'Evan Smith', 'Jordan Williams', 'Max Bell']\n"
     ]
    }
   ],
   "source": [
    "first_name = ['John', 'Evan', 'Jordan', 'Max']\n",
    "last_name = ['Smith', 'Smith', 'Williams', 'Bell']\n",
    "\n",
    "# Output: ['John Smith', 'Evan Smith', 'Jordan Williams', 'Max Bell']\n",
    "\n",
    "def fulls(firsts, lasts):\n",
    "    full_name = []\n",
    "    for index in range(len(firsts)):\n",
    "        full_name.append(firsts[index] + ' ' + lasts[index])\n",
    "    return(full_name)\n",
    "\n",
    "print(fulls(first_name, last_name))\n"
   ]
  },
  {
   "attachments": {},
   "cell_type": "markdown",
   "metadata": {},
   "source": [
    "## Scope <br>\n",
    "<p>Scope refers to the ability to access variables, different types of scope include:<br>a) Global<br>b) Function (local)</p>"
   ]
  },
  {
   "cell_type": "code",
   "execution_count": 37,
   "metadata": {
    "ExecuteTime": {
     "end_time": "2023-10-16T17:55:29.565552800Z",
     "start_time": "2023-10-16T17:55:29.067752700Z"
    }
   },
   "outputs": [
    {
     "name": "stdout",
     "output_type": "stream",
     "text": [
      "1\n"
     ]
    }
   ],
   "source": [
    "# Global\n",
    "\n",
    "num = 10\n",
    "\n",
    "# Local\n",
    "\n",
    "def locals():\n",
    "    counter = 1\n",
    "    print(counter)\n",
    "\n",
    "    if num == 10:\n",
    "        counter += 1\n",
    "        new_var = 52\n",
    "    \n",
    "\n",
    "locals()\n",
    "\n",
    "   \n"
   ]
  },
  {
   "cell_type": "markdown",
   "metadata": {},
   "source": [
    "# Exercises"
   ]
  },
  {
   "cell_type": "markdown",
   "metadata": {},
   "source": [
    "## Exercise 1 <br>\n",
    "<p>Given a list as a parameter,write a function that returns a list of numbers that are less than ten</b></i></p><br>\n",
    "<p> For example: Say your input parameter to the function is [1,11,14,5,8,9]...Your output should [1,5,8,9]</p>"
   ]
  },
  {
   "cell_type": "code",
   "execution_count": 40,
   "metadata": {
    "ExecuteTime": {
     "end_time": "2023-10-16T17:55:43.406488300Z",
     "start_time": "2023-10-16T17:55:43.394358100Z"
    }
   },
   "outputs": [
    {
     "name": "stdout",
     "output_type": "stream",
     "text": [
      "[1, 5, 8, 9]\n"
     ]
    }
   ],
   "source": [
    "# Use the following list - [1,11,14,5,8,9]\n",
    "\n",
    "l_1 = [1,11,14,5,8,9]\n",
    "\n",
    "def minus_ten(lst):\n",
    "    \n",
    "    result = []\n",
    "    \n",
    "    for x in lst:\n",
    "        if x < 11:\n",
    "            result.append(x)\n",
    "    return result\n",
    "\n",
    "mylist = minus_ten(l_1)\n",
    "print(mylist)\n"
   ]
  },
  {
   "cell_type": "markdown",
   "metadata": {},
   "source": [
    "## Exercise 2 <br>\n",
    "<p>Write a function that takes in two lists and returns the two lists merged together and sorted<br>\n",
    "<b><i>Hint: You can use the .sort() method</i></b></p>"
   ]
  },
  {
   "cell_type": "code",
   "execution_count": 41,
   "metadata": {
    "ExecuteTime": {
     "end_time": "2023-10-16T17:55:45.052545Z",
     "start_time": "2023-10-16T17:55:45.046349300Z"
    }
   },
   "outputs": [
    {
     "name": "stdout",
     "output_type": "stream",
     "text": [
      "[1, 2, 3, 3, 4, 4, 5, 5, 6, 6, 7, 8, 10]\n"
     ]
    }
   ],
   "source": [
    "l_1 = [1,2,3,4,5,6]\n",
    "l_2 = [3,4,5,6,7,8,10]\n",
    "\n",
    "\n",
    "Sorted_list = sorted(l_1 + l_2)\n",
    "\n",
    "print(Sorted_list)\n"
   ]
  },
  {
   "cell_type": "code",
   "execution_count": 39,
   "outputs": [],
   "source": [],
   "metadata": {
    "collapsed": false,
    "ExecuteTime": {
     "end_time": "2023-10-16T17:55:29.596832300Z",
     "start_time": "2023-10-16T17:55:29.107454200Z"
    }
   }
  }
 ],
 "metadata": {
  "kernelspec": {
   "display_name": "Python 3",
   "language": "python",
   "name": "python3"
  },
  "language_info": {
   "codemirror_mode": {
    "name": "ipython",
    "version": 3
   },
   "file_extension": ".py",
   "mimetype": "text/x-python",
   "name": "python",
   "nbconvert_exporter": "python",
   "pygments_lexer": "ipython3",
   "version": "3.10.11"
  },
  "vscode": {
   "interpreter": {
    "hash": "aa82987a71ca0339a52998cd22613b0c002bda8349fa32a0cb67ceec3936a2bf"
   }
  }
 },
 "nbformat": 4,
 "nbformat_minor": 2
}
